{
 "cells": [
  {
   "cell_type": "code",
   "execution_count": 1,
   "id": "10b6a24c-89b9-4aa4-a322-e9784c99e4bc",
   "metadata": {},
   "outputs": [],
   "source": [
    "# pip install ics, pandas, numpy, datetime, pytz"
   ]
  },
  {
   "cell_type": "code",
   "execution_count": 2,
   "id": "6b2a64e6-4869-4a4a-924c-b9766e95a966",
   "metadata": {},
   "outputs": [],
   "source": [
    "import pandas as pd\n",
    "import numpy as np\n",
    "from ics import Calendar, Event\n",
    "import datetime\n",
    "import pytz\n",
    "\n",
    "datetime_nl = datetime.datetime.now()"
   ]
  },
  {
   "cell_type": "code",
   "execution_count": 3,
   "id": "46a7c88f-20b7-4c46-bd7d-06d9f381b101",
   "metadata": {},
   "outputs": [],
   "source": [
    "df = pd.read_excel(\"timetable.xlsx\",sheet_name=\"2024\")"
   ]
  },
  {
   "cell_type": "code",
   "execution_count": 4,
   "id": "f1d55cc6-bcf4-435c-a4cf-7bfd70463997",
   "metadata": {},
   "outputs": [],
   "source": [
    "df = df.iloc[[0]]"
   ]
  },
  {
   "cell_type": "code",
   "execution_count": 5,
   "id": "afc8fc33-75a5-444b-b748-a7226ef5ddb2",
   "metadata": {},
   "outputs": [],
   "source": [
    "adressen = {\n",
    "        \"D\": \"stevinweg 1, Delft, Netherlands\",\n",
    "        \"C\": \"stevinweg 2, Delft, Netherlands\",\n",
    "        \"K\": \"stevinweg 3, Delft, Netherlands\",\n",
    "        \"F\": \"stevinweg 4, Delft, Netherlands\",\n",
    "        \"J\": \"stevinweg 5, Delft, Netherlands\",\n",
    "        \"E\": \"stevinweg 6, Delft, Netherlands\",\n",
    "        }"
   ]
  },
  {
   "cell_type": "code",
   "execution_count": 6,
   "id": "9540243e-57b5-4e1c-aa05-a0f4d62ff5db",
   "metadata": {},
   "outputs": [],
   "source": [
    "c = Calendar()\n",
    "for index, row in df.iterrows():\n",
    "    e = Event()\n",
    "\n",
    "    # change title of event:\n",
    "    e.name = f\"Event at {row['Location']}\"\n",
    "    e.location = adressen[row['Location'].strip()]\n",
    "\n",
    "    # For instance Start at 18:30, but ensure local time which then convert to UTC\n",
    "    begin_time = datetime.datetime.strptime(f\"{row['Datum'].date()} 18:30:00\",'%Y-%m-%d %H:%M:%S')\n",
    "    begin_time = pytz.timezone('Europe/Paris').localize(begin_time)\n",
    "    e.begin = begin_time.astimezone(pytz.utc)\n",
    "\n",
    "    # repeat for endtime\n",
    "    end_time = datetime.datetime.strptime(f\"{row['Datum'].date()} 23:59:00\",'%Y-%m-%d %H:%M:%S')\n",
    "    end_time = pytz.timezone('Europe/Paris').localize(end_time)\n",
    "    e.end    = end_time\n",
    "\n",
    "    # adjust description accordingly\n",
    "    e.description = f\"Task1: {row['Task1']}\\nTask2: {row['Task2']}\"\n",
    "    c.events.add(e)\n",
    "    c.events"
   ]
  },
  {
   "cell_type": "code",
   "execution_count": 7,
   "id": "fd557404-c0d6-425b-b9cb-2c55f8f88ca0",
   "metadata": {},
   "outputs": [],
   "source": [
    "fname = f'timetable_v{str(datetime.datetime.now().date())}.ics'\n",
    "with open(fname, 'w') as my_file:\n",
    "    my_file.writelines(c.serialize_iter())"
   ]
  },
  {
   "cell_type": "code",
   "execution_count": 8,
   "id": "c78a3b2a-85b8-48e1-b177-f86955fce993",
   "metadata": {},
   "outputs": [
    {
     "data": {
      "text/plain": [
       "['BEGIN:VCALENDAR\\n',\n",
       " '\\n',\n",
       " 'VERSION:2.0\\n',\n",
       " '\\n',\n",
       " 'PRODID:ics.py - http://git.io/lLljaA\\n',\n",
       " '\\n',\n",
       " 'BEGIN:VEVENT\\n',\n",
       " '\\n',\n",
       " 'DESCRIPTION:Task1: J\\\\nTask2: E\\n',\n",
       " '\\n',\n",
       " 'DTEND:20240905T215900Z\\n',\n",
       " '\\n',\n",
       " 'LOCATION:stevinweg 1\\\\, Delft\\\\, Netherlands\\n',\n",
       " '\\n',\n",
       " 'DTSTART:20240905T163000Z\\n']"
      ]
     },
     "execution_count": 8,
     "metadata": {},
     "output_type": "execute_result"
    }
   ],
   "source": [
    "output = []\n",
    "with open(fname, 'r') as my_file:\n",
    "    for index, line in enumerate(my_file):\n",
    "        output.append(line)\n",
    "output[:15]"
   ]
  },
  {
   "cell_type": "code",
   "execution_count": null,
   "id": "4ce67759-5ec2-4fd6-907b-bf3ff9a9a10e",
   "metadata": {},
   "outputs": [],
   "source": []
  }
 ],
 "metadata": {
  "kernelspec": {
   "display_name": "Python 3 (ipykernel)",
   "language": "python",
   "name": "python3"
  },
  "language_info": {
   "codemirror_mode": {
    "name": "ipython",
    "version": 3
   },
   "file_extension": ".py",
   "mimetype": "text/x-python",
   "name": "python",
   "nbconvert_exporter": "python",
   "pygments_lexer": "ipython3",
   "version": "3.11.7"
  }
 },
 "nbformat": 4,
 "nbformat_minor": 5
}
